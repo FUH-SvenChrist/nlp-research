{
 "cells": [
  {
   "cell_type": "code",
   "execution_count": 1,
   "metadata": {
    "collapsed": true,
    "ExecuteTime": {
     "end_time": "2023-08-21T13:12:38.186165900Z",
     "start_time": "2023-08-21T13:12:37.106165100Z"
    }
   },
   "outputs": [],
   "source": [
    "from tool_feedback.description_processing.description_processer import DescriptionProcesser\n"
   ]
  },
  {
   "cell_type": "code",
   "execution_count": 2,
   "outputs": [
    {
     "name": "stderr",
     "output_type": "stream",
     "text": [
      "2023-08-21 15:12:39 INFO: Installing CoreNLP package into ..\\tool_feedback\\stanza_corenlp\n"
     ]
    },
    {
     "name": "stdout",
     "output_type": "stream",
     "text": [
      "Installing corenlp...\n"
     ]
    },
    {
     "data": {
      "text/plain": "Downloading https://huggingface.co/stanfordnlp/CoreNLP/resolve/main/stanford-corenlp-latest.zip:   0%|        …",
      "application/vnd.jupyter.widget-view+json": {
       "version_major": 2,
       "version_minor": 0,
       "model_id": "ffb916542a664c289b738cf1f0ad98f6"
      }
     },
     "metadata": {},
     "output_type": "display_data"
    },
    {
     "name": "stderr",
     "output_type": "stream",
     "text": [
      "2023-08-21 15:13:25 WARNING: For customized installation location, please set the `CORENLP_HOME` environment variable to the location of the installation. In Unix, this is done with `export CORENLP_HOME=..\\tool_feedback\\stanza_corenlp`.\n",
      "2023-08-21 15:13:25 INFO: Downloading english-extra models (version 4.4.0) into directory ..\\tool_feedback\\stanza_resources\n"
     ]
    },
    {
     "name": "stdout",
     "output_type": "stream",
     "text": [
      "Downloading English model...\n"
     ]
    },
    {
     "data": {
      "text/plain": "Downloading https://huggingface.co/stanfordnlp/corenlp-english-extra/resolve/v4.4.0/stanford-corenlp-models-en…",
      "application/vnd.jupyter.widget-view+json": {
       "version_major": 2,
       "version_minor": 0,
       "model_id": "e2e3ec23521345bdb5ad7c9bff56ca7c"
      }
     },
     "metadata": {},
     "output_type": "display_data"
    },
    {
     "name": "stderr",
     "output_type": "stream",
     "text": [
      "2023-08-21 15:14:04 INFO: Loading these models for language: en (English):\n",
      "========================\n",
      "| Processor | Package  |\n",
      "------------------------\n",
      "| tokenize  | combined |\n",
      "| pos       | combined |\n",
      "| lemma     | combined |\n",
      "| depparse  | combined |\n",
      "========================\n",
      "\n",
      "2023-08-21 15:14:04 INFO: Using device: cpu\n",
      "2023-08-21 15:14:04 INFO: Loading: tokenize\n",
      "2023-08-21 15:14:04 INFO: Loading: pos\n",
      "2023-08-21 15:14:04 INFO: Loading: lemma\n",
      "2023-08-21 15:14:04 INFO: Loading: depparse\n",
      "2023-08-21 15:14:04 INFO: Done loading processors!\n"
     ]
    }
   ],
   "source": [
    "description = \"Each programmer has a name, address and date of birth. Each project has a name, budget, starting date and ending date. A programming language has a name and a platform. A consultant may supervise many projects. A consultant has a name, address and date of birth. A project can be supervised by only one consultant. A programmer works in at most two projects. At least one programmer works on a project. A programmer uses at least on programming language. In a project, exactly one programmer language is used. \"\n",
    "\n",
    "annotations_pipeline = DescriptionProcesser()\n",
    "annotations_pipeline.construct_pipeline()\n",
    "annotations = annotations_pipeline.annotate_description(description)"
   ],
   "metadata": {
    "collapsed": false,
    "ExecuteTime": {
     "end_time": "2023-08-21T13:14:05.199952200Z",
     "start_time": "2023-08-21T13:12:39.629277400Z"
    }
   }
  },
  {
   "cell_type": "code",
   "execution_count": 3,
   "outputs": [
    {
     "name": "stdout",
     "output_type": "stream",
     "text": [
      "[Sentence 1]\n",
      "Sentence: Each programmer has a name, address and date of birth.\n",
      "Governor: Each (Lemma: each) (Type: DET)\tRelation: det\tDependent: programmer (Lemma: programmer) (Type: NOUN)\n",
      "Governor: programmer (Lemma: programmer) (Type: NOUN)\tRelation: nsubj\tDependent: has (Lemma: have) (Type: VERB)\n",
      "Governor: has (Lemma: have) (Type: VERB)\tRelation: root\tDependent: ROOT (Lemma: None) (Type: None)\n",
      "Governor: a (Lemma: a) (Type: DET)\tRelation: det\tDependent: name (Lemma: name) (Type: NOUN)\n",
      "Governor: name (Lemma: name) (Type: NOUN)\tRelation: obj\tDependent: has (Lemma: have) (Type: VERB)\n",
      "Governor: , (Lemma: ,) (Type: PUNCT)\tRelation: punct\tDependent: address (Lemma: address) (Type: NOUN)\n",
      "Governor: address (Lemma: address) (Type: NOUN)\tRelation: conj\tDependent: name (Lemma: name) (Type: NOUN)\n",
      "Governor: and (Lemma: and) (Type: CCONJ)\tRelation: cc\tDependent: date (Lemma: date) (Type: NOUN)\n",
      "Governor: date (Lemma: date) (Type: NOUN)\tRelation: conj\tDependent: name (Lemma: name) (Type: NOUN)\n",
      "Governor: of (Lemma: of) (Type: ADP)\tRelation: case\tDependent: birth (Lemma: birth) (Type: NOUN)\n",
      "Governor: birth (Lemma: birth) (Type: NOUN)\tRelation: nmod\tDependent: date (Lemma: date) (Type: NOUN)\n",
      "Governor: . (Lemma: .) (Type: PUNCT)\tRelation: punct\tDependent: has (Lemma: have) (Type: VERB)\n",
      "\n",
      "[Sentence 2]\n",
      "Sentence: Each project has a name, budget, starting date and ending date.\n",
      "Governor: Each (Lemma: each) (Type: DET)\tRelation: det\tDependent: project (Lemma: project) (Type: NOUN)\n",
      "Governor: project (Lemma: project) (Type: NOUN)\tRelation: nsubj\tDependent: has (Lemma: have) (Type: VERB)\n",
      "Governor: has (Lemma: have) (Type: VERB)\tRelation: root\tDependent: ROOT (Lemma: None) (Type: None)\n",
      "Governor: a (Lemma: a) (Type: DET)\tRelation: det\tDependent: name (Lemma: name) (Type: NOUN)\n",
      "Governor: name (Lemma: name) (Type: NOUN)\tRelation: obj\tDependent: has (Lemma: have) (Type: VERB)\n",
      "Governor: , (Lemma: ,) (Type: PUNCT)\tRelation: punct\tDependent: budget (Lemma: budget) (Type: NOUN)\n",
      "Governor: budget (Lemma: budget) (Type: NOUN)\tRelation: conj\tDependent: name (Lemma: name) (Type: NOUN)\n",
      "Governor: , (Lemma: ,) (Type: PUNCT)\tRelation: punct\tDependent: date (Lemma: date) (Type: NOUN)\n",
      "Governor: starting (Lemma: starting) (Type: NOUN)\tRelation: compound\tDependent: date (Lemma: date) (Type: NOUN)\n",
      "Governor: date (Lemma: date) (Type: NOUN)\tRelation: conj\tDependent: name (Lemma: name) (Type: NOUN)\n",
      "Governor: and (Lemma: and) (Type: CCONJ)\tRelation: cc\tDependent: date (Lemma: date) (Type: NOUN)\n",
      "Governor: ending (Lemma: ending) (Type: NOUN)\tRelation: compound\tDependent: date (Lemma: date) (Type: NOUN)\n",
      "Governor: date (Lemma: date) (Type: NOUN)\tRelation: conj\tDependent: name (Lemma: name) (Type: NOUN)\n",
      "Governor: . (Lemma: .) (Type: PUNCT)\tRelation: punct\tDependent: has (Lemma: have) (Type: VERB)\n",
      "\n",
      "[Sentence 3]\n",
      "Sentence: A programming language has a name and a platform.\n",
      "Governor: A (Lemma: a) (Type: DET)\tRelation: det\tDependent: language (Lemma: language) (Type: NOUN)\n",
      "Governor: programming (Lemma: programming) (Type: NOUN)\tRelation: compound\tDependent: language (Lemma: language) (Type: NOUN)\n",
      "Governor: language (Lemma: language) (Type: NOUN)\tRelation: nsubj\tDependent: has (Lemma: have) (Type: VERB)\n",
      "Governor: has (Lemma: have) (Type: VERB)\tRelation: root\tDependent: ROOT (Lemma: None) (Type: None)\n",
      "Governor: a (Lemma: a) (Type: DET)\tRelation: det\tDependent: name (Lemma: name) (Type: NOUN)\n",
      "Governor: name (Lemma: name) (Type: NOUN)\tRelation: obj\tDependent: has (Lemma: have) (Type: VERB)\n",
      "Governor: and (Lemma: and) (Type: CCONJ)\tRelation: cc\tDependent: platform (Lemma: platform) (Type: NOUN)\n",
      "Governor: a (Lemma: a) (Type: DET)\tRelation: det\tDependent: platform (Lemma: platform) (Type: NOUN)\n",
      "Governor: platform (Lemma: platform) (Type: NOUN)\tRelation: conj\tDependent: name (Lemma: name) (Type: NOUN)\n",
      "Governor: . (Lemma: .) (Type: PUNCT)\tRelation: punct\tDependent: has (Lemma: have) (Type: VERB)\n",
      "\n",
      "[Sentence 4]\n",
      "Sentence: A consultant may supervise many projects.\n",
      "Governor: A (Lemma: a) (Type: DET)\tRelation: det\tDependent: consultant (Lemma: consultant) (Type: NOUN)\n",
      "Governor: consultant (Lemma: consultant) (Type: NOUN)\tRelation: nsubj\tDependent: supervise (Lemma: supervise) (Type: VERB)\n",
      "Governor: may (Lemma: may) (Type: AUX)\tRelation: aux\tDependent: supervise (Lemma: supervise) (Type: VERB)\n",
      "Governor: supervise (Lemma: supervise) (Type: VERB)\tRelation: root\tDependent: ROOT (Lemma: None) (Type: None)\n",
      "Governor: many (Lemma: many) (Type: ADJ)\tRelation: amod\tDependent: projects (Lemma: project) (Type: NOUN)\n",
      "Governor: projects (Lemma: project) (Type: NOUN)\tRelation: obj\tDependent: supervise (Lemma: supervise) (Type: VERB)\n",
      "Governor: . (Lemma: .) (Type: PUNCT)\tRelation: punct\tDependent: supervise (Lemma: supervise) (Type: VERB)\n",
      "\n",
      "[Sentence 5]\n",
      "Sentence: A consultant has a name, address and date of birth.\n",
      "Governor: A (Lemma: a) (Type: DET)\tRelation: det\tDependent: consultant (Lemma: consultant) (Type: NOUN)\n",
      "Governor: consultant (Lemma: consultant) (Type: NOUN)\tRelation: nsubj\tDependent: has (Lemma: have) (Type: VERB)\n",
      "Governor: has (Lemma: have) (Type: VERB)\tRelation: root\tDependent: ROOT (Lemma: None) (Type: None)\n",
      "Governor: a (Lemma: a) (Type: DET)\tRelation: det\tDependent: name (Lemma: name) (Type: NOUN)\n",
      "Governor: name (Lemma: name) (Type: NOUN)\tRelation: obj\tDependent: has (Lemma: have) (Type: VERB)\n",
      "Governor: , (Lemma: ,) (Type: PUNCT)\tRelation: punct\tDependent: address (Lemma: address) (Type: NOUN)\n",
      "Governor: address (Lemma: address) (Type: NOUN)\tRelation: conj\tDependent: name (Lemma: name) (Type: NOUN)\n",
      "Governor: and (Lemma: and) (Type: CCONJ)\tRelation: cc\tDependent: date (Lemma: date) (Type: NOUN)\n",
      "Governor: date (Lemma: date) (Type: NOUN)\tRelation: conj\tDependent: name (Lemma: name) (Type: NOUN)\n",
      "Governor: of (Lemma: of) (Type: ADP)\tRelation: case\tDependent: birth (Lemma: birth) (Type: NOUN)\n",
      "Governor: birth (Lemma: birth) (Type: NOUN)\tRelation: nmod\tDependent: date (Lemma: date) (Type: NOUN)\n",
      "Governor: . (Lemma: .) (Type: PUNCT)\tRelation: punct\tDependent: has (Lemma: have) (Type: VERB)\n",
      "\n",
      "[Sentence 6]\n",
      "Sentence: A project can be supervised by only one consultant.\n",
      "Governor: A (Lemma: a) (Type: DET)\tRelation: det\tDependent: project (Lemma: project) (Type: NOUN)\n",
      "Governor: project (Lemma: project) (Type: NOUN)\tRelation: nsubj:pass\tDependent: supervised (Lemma: supervise) (Type: VERB)\n",
      "Governor: can (Lemma: can) (Type: AUX)\tRelation: aux\tDependent: supervised (Lemma: supervise) (Type: VERB)\n",
      "Governor: be (Lemma: be) (Type: AUX)\tRelation: aux:pass\tDependent: supervised (Lemma: supervise) (Type: VERB)\n",
      "Governor: supervised (Lemma: supervise) (Type: VERB)\tRelation: root\tDependent: ROOT (Lemma: None) (Type: None)\n",
      "Governor: by (Lemma: by) (Type: ADP)\tRelation: case\tDependent: consultant (Lemma: consultant) (Type: NOUN)\n",
      "Governor: only (Lemma: only) (Type: ADV)\tRelation: advmod\tDependent: one (Lemma: one) (Type: NUM)\n",
      "Governor: one (Lemma: one) (Type: NUM)\tRelation: nummod\tDependent: consultant (Lemma: consultant) (Type: NOUN)\n",
      "Governor: consultant (Lemma: consultant) (Type: NOUN)\tRelation: obl\tDependent: supervised (Lemma: supervise) (Type: VERB)\n",
      "Governor: . (Lemma: .) (Type: PUNCT)\tRelation: punct\tDependent: supervised (Lemma: supervise) (Type: VERB)\n",
      "\n",
      "[Sentence 7]\n",
      "Sentence: A programmer works in at most two projects.\n",
      "Governor: A (Lemma: a) (Type: DET)\tRelation: det\tDependent: programmer (Lemma: programmer) (Type: NOUN)\n",
      "Governor: programmer (Lemma: programmer) (Type: NOUN)\tRelation: nsubj\tDependent: works (Lemma: work) (Type: VERB)\n",
      "Governor: works (Lemma: work) (Type: VERB)\tRelation: root\tDependent: ROOT (Lemma: None) (Type: None)\n",
      "Governor: in (Lemma: in) (Type: ADP)\tRelation: obl\tDependent: works (Lemma: work) (Type: VERB)\n",
      "Governor: at (Lemma: at) (Type: ADP)\tRelation: case\tDependent: projects (Lemma: project) (Type: NOUN)\n",
      "Governor: most (Lemma: most) (Type: ADJ)\tRelation: amod\tDependent: projects (Lemma: project) (Type: NOUN)\n",
      "Governor: two (Lemma: two) (Type: NUM)\tRelation: nummod\tDependent: projects (Lemma: project) (Type: NOUN)\n",
      "Governor: projects (Lemma: project) (Type: NOUN)\tRelation: obl\tDependent: works (Lemma: work) (Type: VERB)\n",
      "Governor: . (Lemma: .) (Type: PUNCT)\tRelation: punct\tDependent: works (Lemma: work) (Type: VERB)\n",
      "\n",
      "[Sentence 8]\n",
      "Sentence: At least one programmer works on a project.\n",
      "Governor: At (Lemma: at) (Type: ADP)\tRelation: advmod\tDependent: one (Lemma: one) (Type: NUM)\n",
      "Governor: least (Lemma: least) (Type: ADJ)\tRelation: nmod\tDependent: one (Lemma: one) (Type: NUM)\n",
      "Governor: one (Lemma: one) (Type: NUM)\tRelation: nummod\tDependent: programmer (Lemma: programmer) (Type: NOUN)\n",
      "Governor: programmer (Lemma: programmer) (Type: NOUN)\tRelation: nsubj\tDependent: works (Lemma: work) (Type: VERB)\n",
      "Governor: works (Lemma: work) (Type: VERB)\tRelation: root\tDependent: ROOT (Lemma: None) (Type: None)\n",
      "Governor: on (Lemma: on) (Type: ADP)\tRelation: case\tDependent: project (Lemma: project) (Type: NOUN)\n",
      "Governor: a (Lemma: a) (Type: DET)\tRelation: det\tDependent: project (Lemma: project) (Type: NOUN)\n",
      "Governor: project (Lemma: project) (Type: NOUN)\tRelation: obl\tDependent: works (Lemma: work) (Type: VERB)\n",
      "Governor: . (Lemma: .) (Type: PUNCT)\tRelation: punct\tDependent: works (Lemma: work) (Type: VERB)\n",
      "\n",
      "[Sentence 9]\n",
      "Sentence: A programmer uses at least on programming language.\n",
      "Governor: A (Lemma: a) (Type: DET)\tRelation: det\tDependent: programmer (Lemma: programmer) (Type: NOUN)\n",
      "Governor: programmer (Lemma: programmer) (Type: NOUN)\tRelation: nsubj\tDependent: uses (Lemma: use) (Type: VERB)\n",
      "Governor: uses (Lemma: use) (Type: VERB)\tRelation: root\tDependent: ROOT (Lemma: None) (Type: None)\n",
      "Governor: at (Lemma: at) (Type: ADP)\tRelation: advmod\tDependent: uses (Lemma: use) (Type: VERB)\n",
      "Governor: least (Lemma: least) (Type: ADJ)\tRelation: fixed\tDependent: at (Lemma: at) (Type: ADP)\n",
      "Governor: on (Lemma: on) (Type: ADP)\tRelation: case\tDependent: language (Lemma: language) (Type: NOUN)\n",
      "Governor: programming (Lemma: programming) (Type: NOUN)\tRelation: compound\tDependent: language (Lemma: language) (Type: NOUN)\n",
      "Governor: language (Lemma: language) (Type: NOUN)\tRelation: obl\tDependent: uses (Lemma: use) (Type: VERB)\n",
      "Governor: . (Lemma: .) (Type: PUNCT)\tRelation: punct\tDependent: uses (Lemma: use) (Type: VERB)\n",
      "\n",
      "[Sentence 10]\n",
      "Sentence: In a project, exactly one programmer language is used.\n",
      "Governor: In (Lemma: in) (Type: ADP)\tRelation: case\tDependent: project (Lemma: project) (Type: NOUN)\n",
      "Governor: a (Lemma: a) (Type: DET)\tRelation: det\tDependent: project (Lemma: project) (Type: NOUN)\n",
      "Governor: project (Lemma: project) (Type: NOUN)\tRelation: obl\tDependent: used (Lemma: use) (Type: VERB)\n",
      "Governor: , (Lemma: ,) (Type: PUNCT)\tRelation: punct\tDependent: used (Lemma: use) (Type: VERB)\n",
      "Governor: exactly (Lemma: exactly) (Type: ADV)\tRelation: advmod\tDependent: one (Lemma: one) (Type: NUM)\n",
      "Governor: one (Lemma: one) (Type: NUM)\tRelation: nummod\tDependent: language (Lemma: language) (Type: NOUN)\n",
      "Governor: programmer (Lemma: programmer) (Type: NOUN)\tRelation: compound\tDependent: language (Lemma: language) (Type: NOUN)\n",
      "Governor: language (Lemma: language) (Type: NOUN)\tRelation: nsubj:pass\tDependent: used (Lemma: use) (Type: VERB)\n",
      "Governor: is (Lemma: be) (Type: AUX)\tRelation: aux:pass\tDependent: used (Lemma: use) (Type: VERB)\n",
      "Governor: used (Lemma: use) (Type: VERB)\tRelation: root\tDependent: ROOT (Lemma: None) (Type: None)\n",
      "Governor: . (Lemma: .) (Type: PUNCT)\tRelation: punct\tDependent: used (Lemma: use) (Type: VERB)\n",
      "\n"
     ]
    }
   ],
   "source": [
    "# now printing the goveror, dependent and type for each sentence:\n",
    "for i, sent in enumerate(annotations.sentences):\n",
    "    print(\"[Sentence {}]\".format(i+1))\n",
    "    print(f\"Sentence: {sent.text}\")\n",
    "    for dependency in sent.dependencies:\n",
    "        dependent, dep_type, governor = dependency\n",
    "        print(f\"Governor: {governor.text} (Lemma: {governor.lemma}) (Type: {governor.upos})\\tRelation: {dep_type}\\tDependent: {dependent.text} (Lemma: {dependent.lemma}) (Type: {dependent.upos})\")\n",
    "    print(\"\")\n"
   ],
   "metadata": {
    "collapsed": false,
    "ExecuteTime": {
     "end_time": "2023-08-21T13:16:30.666589Z",
     "start_time": "2023-08-21T13:16:30.651589700Z"
    }
   }
  }
 ],
 "metadata": {
  "kernelspec": {
   "display_name": "Python 3",
   "language": "python",
   "name": "python3"
  },
  "language_info": {
   "codemirror_mode": {
    "name": "ipython",
    "version": 2
   },
   "file_extension": ".py",
   "mimetype": "text/x-python",
   "name": "python",
   "nbconvert_exporter": "python",
   "pygments_lexer": "ipython2",
   "version": "2.7.6"
  }
 },
 "nbformat": 4,
 "nbformat_minor": 0
}
